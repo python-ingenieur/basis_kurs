{
 "cells": [
  {
   "cell_type": "markdown",
   "metadata": {},
   "source": [
    "# Eine Einführung in Jupyter"
   ]
  },
  {
   "cell_type": "markdown",
   "metadata": {},
   "source": [
    "Diese Einführung funktioniert ein bisschen besser im interaktiven Modus. Bitte schauen Sie nach, ob Sie oben rechts unter dem Python Symbol folgendes sehen:\n",
    "<div align=\"left\">\n",
    "<img src=\"https://raw.githubusercontent.com/python-ingenieur/basis_kurs/master/kurs/images/trusted.png\" width=\"15%\">\n",
    "</div>\n",
    "Bitte klicken Sie 'trust', wenn der Kernel nicht gestartet ist, bzw. klicken Sie im Menü auf 'Kernel/Restart' oder Kernel/Reconnect."
   ]
  },
  {
   "cell_type": "markdown",
   "metadata": {},
   "source": [
    "Als Erstes erkläre ich Ihnen, wie Sie einzelne Zellen ausführen. Versuchen Sie die Zelle unten auszuführen."
   ]
  },
  {
   "cell_type": "code",
   "execution_count": 3,
   "metadata": {},
   "outputs": [
    {
     "name": "stdout",
     "output_type": "stream",
     "text": [
      "Hallo Welt! Das ist eine Zelle. Klick die '▶| Run' Schaltfläche in Menü oben.\n"
     ]
    }
   ],
   "source": [
    "import pandas as pd\n",
    "\n",
    "print(\"Hallo Welt! Das ist eine Zelle. Klick die '▶| Run' Schaltfläche in Menü oben.\")"
   ]
  },
  {
   "cell_type": "markdown",
   "metadata": {},
   "source": [
    "Sie können die Zelle auch mit Strg+Enter oder Schift+Enter ausführen. Experimentieren Sie ein bisschen damit."
   ]
  },
  {
   "cell_type": "markdown",
   "metadata": {},
   "source": [
    "Eine der nützlichsten Dinge in Jupyter Notebook ist die Tab-Komplettierung.\n",
    "\n",
    "Versuchen Sie das: \n",
    "Klicken Sie genau nach `read_csv(` in der Zelle unten und drücken Sie Shift+Tab vier mal langsam."
   ]
  },
  {
   "cell_type": "code",
   "execution_count": 5,
   "metadata": {},
   "outputs": [
    {
     "ename": "SyntaxError",
     "evalue": "unexpected EOF while parsing (<ipython-input-5-63364571c6c2>, line 1)",
     "output_type": "error",
     "traceback": [
      "\u001b[1;36m  File \u001b[1;32m\"<ipython-input-5-63364571c6c2>\"\u001b[1;36m, line \u001b[1;32m1\u001b[0m\n\u001b[1;33m    pd.read_csv(\u001b[0m\n\u001b[1;37m                ^\u001b[0m\n\u001b[1;31mSyntaxError\u001b[0m\u001b[1;31m:\u001b[0m unexpected EOF while parsing\n"
     ]
    }
   ],
   "source": [
    "pd.read_csv("
   ]
  },
  {
   "cell_type": "markdown",
   "metadata": {},
   "source": [
    "Nach dem ersten Mal sollten Sie das sehen:\n",
    "<div align=\"center\">\n",
    "<img src=\"https://raw.githubusercontent.com/python-ingenieur/basis_kurs/master/kurs/images/tab-once.png\" width=\"75%\">\n",
    "</div>\n",
    "\n",
    "Nach dem zweiten Mal:\n",
    "<div align=\"center\">\n",
    "<img src=\"https://raw.githubusercontent.com/python-ingenieur/basis_kurs/master/kurs/images/tab-twice.png\" width=\"75%\">\n",
    "</div>\n",
    "\n",
    "Nach dem vierten Mal sollte eine große Hilfebox am unteren Rand des Bildschirms aufpoppen mit der vollen Dokumentation der Funktion `read_csv`:\n",
    "<div align=\"center\">\n",
    "<img src=\"https://raw.githubusercontent.com/python-ingenieur/basis_kurs/master/kurs/images/tab-4-times.png\" width=\"90%\">\n",
    "</div>"
   ]
  },
  {
   "cell_type": "markdown",
   "metadata": {},
   "source": [
    "Ich finde das sehr nützlich. Ich denke dabei \"Je verwirrter ich bin, desto öfter sollte ich Shift+Tab drücken\". Es passiert nichts schlimmes, wenn Sie 12 mal Tab drücken.\n",
    "\n",
    "Nagut, lassen Sie uns Autovervollständigung für Funktionen versuchen! Setzen Sie den Curser hinter `pd.r` und drücken Sie Tab."
   ]
  },
  {
   "cell_type": "code",
   "execution_count": null,
   "metadata": {},
   "outputs": [],
   "source": [
    "pd.r"
   ]
  },
  {
   "cell_type": "markdown",
   "metadata": {},
   "source": [
    "You should see this:\n",
    "\n",
    "<div align=\"center\">\n",
    "<img src=\"https://raw.githubusercontent.com/python-ingenieur/basis_kurs/master/kurs/images/function-completion.png\" width=\"25%\">\n",
    "</div>"
   ]
  },
  {
   "cell_type": "markdown",
   "metadata": {},
   "source": [
    "# Code schreiben"
   ]
  },
  {
   "cell_type": "markdown",
   "metadata": {},
   "source": [
    "Code schreiben in IPython ist eigentlich ganz normal."
   ]
  },
  {
   "cell_type": "code",
   "execution_count": 10,
   "metadata": {},
   "outputs": [],
   "source": [
    "def print_10_nums():\n",
    "    for i in range(10):\n",
    "        print(i, end=\" \")"
   ]
  },
  {
   "cell_type": "code",
   "execution_count": 11,
   "metadata": {},
   "outputs": [
    {
     "name": "stdout",
     "output_type": "stream",
     "text": [
      "0 1 2 3 4 5 6 7 8 9 "
     ]
    }
   ],
   "source": [
    "print_10_nums()"
   ]
  },
  {
   "cell_type": "markdown",
   "metadata": {},
   "source": [
    "# Speichern"
   ]
  },
  {
   "cell_type": "markdown",
   "metadata": {},
   "source": [
    "Seit der letzten stabilen Version werden Notebooks automatisch gespeichert."
   ]
  },
  {
   "cell_type": "markdown",
   "metadata": {},
   "source": [
    "# Magische Funktionen (magic functions)"
   ]
  },
  {
   "cell_type": "markdown",
   "metadata": {},
   "source": [
    "IPython hat viele verschiedene `magic functions`. Hier ist ein Beispiel in der die `%time` magic benutzt wird, um die `sum()` Funktion mit einer Liste als Argument und einem Generator als Argument zu vergleichen."
   ]
  },
  {
   "cell_type": "code",
   "execution_count": 16,
   "metadata": {},
   "outputs": [
    {
     "name": "stdout",
     "output_type": "stream",
     "text": [
      "Wall time: 7.98 ms\n"
     ]
    },
    {
     "data": {
      "text/plain": [
       "4999950000"
      ]
     },
     "execution_count": 16,
     "metadata": {},
     "output_type": "execute_result"
    }
   ],
   "source": [
    "%time sum([x for x in range(100000)])"
   ]
  },
  {
   "cell_type": "code",
   "execution_count": 17,
   "metadata": {},
   "outputs": [
    {
     "name": "stdout",
     "output_type": "stream",
     "text": [
      "Wall time: 11.9 ms\n"
     ]
    },
    {
     "data": {
      "text/plain": [
       "4999950000"
      ]
     },
     "execution_count": 17,
     "metadata": {},
     "output_type": "execute_result"
    }
   ],
   "source": [
    "%time sum(x for x in range(100000))"
   ]
  },
  {
   "cell_type": "markdown",
   "metadata": {},
   "source": [
    "Die magics die ich am meisten benutze sind `%time` und `%prun` zur Profilierung. Sie können `%magic` ausführen um eine Liste von allen zu erhalten."
   ]
  },
  {
   "cell_type": "code",
   "execution_count": 24,
   "metadata": {},
   "outputs": [],
   "source": [
    "%magic"
   ]
  },
  {
   "cell_type": "markdown",
   "metadata": {},
   "source": [
    "Führen Sie `%quickref` aus, um eine Referenzseite zu erhalten."
   ]
  },
  {
   "cell_type": "code",
   "execution_count": 20,
   "metadata": {},
   "outputs": [],
   "source": [
    "%quickref"
   ]
  },
  {
   "cell_type": "markdown",
   "metadata": {},
   "source": [
    "Sie können auch verückte Dinge machen, wie zum Beispiel Perl Code innerhalb einer Zelle einens Notebooks auszuführen. Das muss man aber vorher installieren."
   ]
  },
  {
   "cell_type": "code",
   "execution_count": 25,
   "metadata": {},
   "outputs": [
    {
     "name": "stdout",
     "output_type": "stream",
     "text": [
      "Couldn't find program: 'perl'\n"
     ]
    }
   ],
   "source": [
    "%%perl\n",
    "\n",
    "$_ = \"whoa, python!\";\n",
    "s/python/perl/;\n",
    "print"
   ]
  },
  {
   "cell_type": "markdown",
   "metadata": {},
   "source": [
    "Das ist besonders Cool für Dinge wie Cython code. Dabei kann man Dinge sehr schnell mit der `%%cython` magic  ausprobieren."
   ]
  },
  {
   "cell_type": "markdown",
   "metadata": {},
   "source": [
    "Hier geht es zurück zum [Einführungskurs](http://www.python-ingenieur.de/kurse/einfuehrungskurs/)"
   ]
  },
  {
   "cell_type": "markdown",
   "metadata": {},
   "source": [
    "<style>\n",
    "    @font-face {\n",
    "        font-family: \"Computer Modern\";\n",
    "        src: url('http://mirrors.ctan.org/fonts/cm-unicode/fonts/otf/cmunss.otf');\n",
    "    }\n",
    "    div.cell{\n",
    "        width:800px;\n",
    "        margin-left:16% !important;\n",
    "        margin-right:auto;\n",
    "    }\n",
    "    h1 {\n",
    "        font-family: Helvetica, serif;\n",
    "    }\n",
    "    h4{\n",
    "        margin-top:12px;\n",
    "        margin-bottom: 3px;\n",
    "       }\n",
    "    div.text_cell_render{\n",
    "        font-family: Computer Modern, \"Helvetica Neue\", Arial, Helvetica, Geneva, sans-serif;\n",
    "        line-height: 145%;\n",
    "        font-size: 130%;\n",
    "        width:800px;\n",
    "        margin-left:auto;\n",
    "        margin-right:auto;\n",
    "    }\n",
    "    .CodeMirror{\n",
    "            font-family: \"Source Code Pro\", source-code-pro,Consolas, monospace;\n",
    "    }\n",
    "    .text_cell_render h5 {\n",
    "        font-weight: 300;\n",
    "        font-size: 22pt;\n",
    "        color: #4057A1;\n",
    "        font-style: italic;\n",
    "        margin-bottom: .5em;\n",
    "        margin-top: 0.5em;\n",
    "        display: block;\n",
    "    }\n",
    "    \n",
    "    .warning{\n",
    "        color: rgb( 240, 20, 20 )\n",
    "        }  "
   ]
  }
 ],
 "metadata": {
  "kernelspec": {
   "display_name": "Python 3",
   "language": "python",
   "name": "python3"
  },
  "language_info": {
   "codemirror_mode": {
    "name": "ipython",
    "version": 3
   },
   "file_extension": ".py",
   "mimetype": "text/x-python",
   "name": "python",
   "nbconvert_exporter": "python",
   "pygments_lexer": "ipython3",
   "version": "3.6.4"
  }
 },
 "nbformat": 4,
 "nbformat_minor": 1
}
